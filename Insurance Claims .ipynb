{
 "cells": [
  {
   "cell_type": "code",
   "execution_count": 1,
   "metadata": {},
   "outputs": [],
   "source": [
    "#Importing all necessary packages\n",
    "import pandas as pd\n",
    "import numpy as np\n",
    "import matplotlib as mp\n",
    "from matplotlib import pyplot as plt\n",
    "%matplotlib inline \n",
    "import seaborn as sns\n",
    "import scipy.stats as stats"
   ]
  },
  {
   "cell_type": "code",
   "execution_count": 2,
   "metadata": {},
   "outputs": [],
   "source": [
    "#Reading the data\n",
    "claims = pd.read_csv('claims.csv')\n",
    "cust_demographics = pd.read_csv('cust_demographics.csv')"
   ]
  },
  {
   "cell_type": "code",
   "execution_count": 3,
   "metadata": {},
   "outputs": [],
   "source": [
    "#1)Final merged dataset\n",
    "final_claims_join = pd.merge(cust_demographics,claims,how='left',left_on = 'CUST_ID',right_on = 'customer_id')"
   ]
  },
  {
   "cell_type": "code",
   "execution_count": 4,
   "metadata": {},
   "outputs": [
    {
     "name": "stdout",
     "output_type": "stream",
     "text": [
      "<class 'pandas.core.frame.DataFrame'>\n",
      "Int64Index: 1092 entries, 0 to 1091\n",
      "Data columns (total 16 columns):\n",
      "CUST_ID                1092 non-null int64\n",
      "gender                 1092 non-null object\n",
      "DateOfBirth            1092 non-null object\n",
      "State                  1092 non-null object\n",
      "Contact                1092 non-null object\n",
      "Segment                1092 non-null object\n",
      "claim_id               1085 non-null float64\n",
      "customer_id            1085 non-null float64\n",
      "incident_cause         1085 non-null object\n",
      "claim_date             1085 non-null object\n",
      "claim_area             1085 non-null object\n",
      "police_report          1085 non-null object\n",
      "claim_type             1085 non-null object\n",
      "claim_amount           1020 non-null object\n",
      "total_policy_claims    1075 non-null float64\n",
      "fraudulent             1085 non-null object\n",
      "dtypes: float64(3), int64(1), object(12)\n",
      "memory usage: 145.0+ KB\n"
     ]
    }
   ],
   "source": [
    "#2)Data types and check for mismatch and performing data cleaning as per business understanding\n",
    "final_claims_join.info()"
   ]
  },
  {
   "cell_type": "code",
   "execution_count": 5,
   "metadata": {},
   "outputs": [],
   "source": [
    "#2)Data cleaning\n",
    "final_claims_join['claim_id'] = final_claims_join['claim_id'].fillna(0)\n",
    "final_claims_join['customer_id'] = final_claims_join['customer_id'].fillna(0)"
   ]
  },
  {
   "cell_type": "code",
   "execution_count": 6,
   "metadata": {},
   "outputs": [],
   "source": [
    "#2)Data converions as per business requirement\n",
    "final_claims_join['DateOfBirth'] = final_claims_join['DateOfBirth'].astype('datetime64[ns]')\n",
    "final_claims_join[\"DateOfBirth\"] = final_claims_join[\"DateOfBirth\"].apply(lambda x  : x.replace (x.year-100) if x.year >=2000 else x)\n",
    "final_claims_join['claim_date'] = final_claims_join['claim_date'].astype('datetime64[ns]')\n",
    "final_claims_join['claim_id'] = final_claims_join['claim_id'].astype('int64')\n",
    "final_claims_join['customer_id'] = final_claims_join['customer_id'].astype('int64')"
   ]
  },
  {
   "cell_type": "code",
   "execution_count": 7,
   "metadata": {},
   "outputs": [],
   "source": [
    "#3)Converting claim_amount column to proper format\n",
    "final_claims_join['claim_amount'] = final_claims_join['claim_amount'].str.replace('$','')\n",
    "final_claims_join['claim_amount'] = final_claims_join['claim_amount'].astype('float')\n",
    "final_claims_join['claim_amount'] = final_claims_join['claim_amount'].fillna(final_claims_join['claim_amount'].mean())\n",
    "final_claims_join['claim_amount'] = final_claims_join['claim_amount'].astype('int64')"
   ]
  },
  {
   "cell_type": "code",
   "execution_count": 8,
   "metadata": {},
   "outputs": [],
   "source": [
    "#4)create an alert flag fo reported and unreported claims (1 - 'Yes' & 0 - 'No')\n",
    "p = final_claims_join.police_report\n",
    "final_claims_join['police_report'] = np.where((p == 'Yes'),1,final_claims_join['police_report'])\n",
    "final_claims_join['police_report'] = np.where((p == 'No'),0,final_claims_join['police_report'])"
   ]
  },
  {
   "cell_type": "code",
   "execution_count": 9,
   "metadata": {},
   "outputs": [
    {
     "data": {
      "text/html": [
       "<div>\n",
       "<style scoped>\n",
       "    .dataframe tbody tr th:only-of-type {\n",
       "        vertical-align: middle;\n",
       "    }\n",
       "\n",
       "    .dataframe tbody tr th {\n",
       "        vertical-align: top;\n",
       "    }\n",
       "\n",
       "    .dataframe thead th {\n",
       "        text-align: right;\n",
       "    }\n",
       "</style>\n",
       "<table border=\"1\" class=\"dataframe\">\n",
       "  <thead>\n",
       "    <tr style=\"text-align: right;\">\n",
       "      <th></th>\n",
       "      <th>CUST_ID</th>\n",
       "      <th>gender</th>\n",
       "      <th>DateOfBirth</th>\n",
       "      <th>State</th>\n",
       "      <th>Contact</th>\n",
       "      <th>Segment</th>\n",
       "      <th>claim_id</th>\n",
       "      <th>customer_id</th>\n",
       "      <th>incident_cause</th>\n",
       "      <th>claim_date</th>\n",
       "      <th>claim_area</th>\n",
       "      <th>police_report</th>\n",
       "      <th>claim_type</th>\n",
       "      <th>claim_amount</th>\n",
       "      <th>total_policy_claims</th>\n",
       "      <th>fraudulent</th>\n",
       "    </tr>\n",
       "  </thead>\n",
       "  <tbody>\n",
       "    <tr>\n",
       "      <th>0</th>\n",
       "      <td>21868593</td>\n",
       "      <td>Female</td>\n",
       "      <td>1979-01-12</td>\n",
       "      <td>VT</td>\n",
       "      <td>789-916-8172</td>\n",
       "      <td>Platinum</td>\n",
       "      <td>54004764</td>\n",
       "      <td>21868593</td>\n",
       "      <td>Driver error</td>\n",
       "      <td>2017-11-27</td>\n",
       "      <td>Auto</td>\n",
       "      <td>0</td>\n",
       "      <td>Material only</td>\n",
       "      <td>2980</td>\n",
       "      <td>1.0</td>\n",
       "      <td>No</td>\n",
       "    </tr>\n",
       "    <tr>\n",
       "      <th>1</th>\n",
       "      <td>75740424</td>\n",
       "      <td>Female</td>\n",
       "      <td>1970-01-13</td>\n",
       "      <td>ME</td>\n",
       "      <td>265-543-1264</td>\n",
       "      <td>Silver</td>\n",
       "      <td>33985796</td>\n",
       "      <td>75740424</td>\n",
       "      <td>Crime</td>\n",
       "      <td>2018-10-03</td>\n",
       "      <td>Home</td>\n",
       "      <td>Unknown</td>\n",
       "      <td>Material only</td>\n",
       "      <td>2980</td>\n",
       "      <td>3.0</td>\n",
       "      <td>No</td>\n",
       "    </tr>\n",
       "    <tr>\n",
       "      <th>2</th>\n",
       "      <td>30308357</td>\n",
       "      <td>Female</td>\n",
       "      <td>1984-03-11</td>\n",
       "      <td>TN</td>\n",
       "      <td>798-631-4758</td>\n",
       "      <td>Silver</td>\n",
       "      <td>53522022</td>\n",
       "      <td>30308357</td>\n",
       "      <td>Other driver error</td>\n",
       "      <td>2018-02-02</td>\n",
       "      <td>Auto</td>\n",
       "      <td>0</td>\n",
       "      <td>Material only</td>\n",
       "      <td>3369</td>\n",
       "      <td>1.0</td>\n",
       "      <td>Yes</td>\n",
       "    </tr>\n",
       "    <tr>\n",
       "      <th>3</th>\n",
       "      <td>30308357</td>\n",
       "      <td>Female</td>\n",
       "      <td>1984-03-11</td>\n",
       "      <td>TN</td>\n",
       "      <td>798-631-4758</td>\n",
       "      <td>Silver</td>\n",
       "      <td>63017412</td>\n",
       "      <td>30308357</td>\n",
       "      <td>Driver error</td>\n",
       "      <td>2018-04-04</td>\n",
       "      <td>Auto</td>\n",
       "      <td>0</td>\n",
       "      <td>Material only</td>\n",
       "      <td>1950</td>\n",
       "      <td>6.0</td>\n",
       "      <td>No</td>\n",
       "    </tr>\n",
       "    <tr>\n",
       "      <th>4</th>\n",
       "      <td>47830476</td>\n",
       "      <td>Female</td>\n",
       "      <td>1986-05-01</td>\n",
       "      <td>MA</td>\n",
       "      <td>413-187-7945</td>\n",
       "      <td>Silver</td>\n",
       "      <td>13015401</td>\n",
       "      <td>47830476</td>\n",
       "      <td>Natural causes</td>\n",
       "      <td>2018-06-17</td>\n",
       "      <td>Auto</td>\n",
       "      <td>0</td>\n",
       "      <td>Material only</td>\n",
       "      <td>1680</td>\n",
       "      <td>1.0</td>\n",
       "      <td>No</td>\n",
       "    </tr>\n",
       "  </tbody>\n",
       "</table>\n",
       "</div>"
      ],
      "text/plain": [
       "    CUST_ID  gender DateOfBirth State       Contact   Segment  claim_id  \\\n",
       "0  21868593  Female  1979-01-12    VT  789-916-8172  Platinum  54004764   \n",
       "1  75740424  Female  1970-01-13    ME  265-543-1264    Silver  33985796   \n",
       "2  30308357  Female  1984-03-11    TN  798-631-4758    Silver  53522022   \n",
       "3  30308357  Female  1984-03-11    TN  798-631-4758    Silver  63017412   \n",
       "4  47830476  Female  1986-05-01    MA  413-187-7945    Silver  13015401   \n",
       "\n",
       "   customer_id      incident_cause claim_date claim_area police_report  \\\n",
       "0     21868593        Driver error 2017-11-27       Auto             0   \n",
       "1     75740424               Crime 2018-10-03       Home       Unknown   \n",
       "2     30308357  Other driver error 2018-02-02       Auto             0   \n",
       "3     30308357        Driver error 2018-04-04       Auto             0   \n",
       "4     47830476      Natural causes 2018-06-17       Auto             0   \n",
       "\n",
       "      claim_type  claim_amount  total_policy_claims fraudulent  \n",
       "0  Material only          2980                  1.0         No  \n",
       "1  Material only          2980                  3.0         No  \n",
       "2  Material only          3369                  1.0        Yes  \n",
       "3  Material only          1950                  6.0         No  \n",
       "4  Material only          1680                  1.0         No  "
      ]
     },
     "execution_count": 9,
     "metadata": {},
     "output_type": "execute_result"
    }
   ],
   "source": [
    "final_claims_join.head()"
   ]
  },
  {
   "cell_type": "code",
   "execution_count": 10,
   "metadata": {},
   "outputs": [
    {
     "data": {
      "text/html": [
       "<div>\n",
       "<style scoped>\n",
       "    .dataframe tbody tr th:only-of-type {\n",
       "        vertical-align: middle;\n",
       "    }\n",
       "\n",
       "    .dataframe tbody tr th {\n",
       "        vertical-align: top;\n",
       "    }\n",
       "\n",
       "    .dataframe thead th {\n",
       "        text-align: right;\n",
       "    }\n",
       "</style>\n",
       "<table border=\"1\" class=\"dataframe\">\n",
       "  <thead>\n",
       "    <tr style=\"text-align: right;\">\n",
       "      <th></th>\n",
       "      <th>CUST_ID</th>\n",
       "      <th>gender</th>\n",
       "      <th>DateOfBirth</th>\n",
       "      <th>State</th>\n",
       "      <th>Contact</th>\n",
       "      <th>Segment</th>\n",
       "      <th>claim_id</th>\n",
       "      <th>customer_id</th>\n",
       "      <th>incident_cause</th>\n",
       "      <th>claim_date</th>\n",
       "      <th>claim_area</th>\n",
       "      <th>police_report</th>\n",
       "      <th>claim_type</th>\n",
       "      <th>claim_amount</th>\n",
       "      <th>total_policy_claims</th>\n",
       "      <th>fraudulent</th>\n",
       "    </tr>\n",
       "  </thead>\n",
       "  <tbody>\n",
       "    <tr>\n",
       "      <th>639</th>\n",
       "      <td>70659761</td>\n",
       "      <td>Male</td>\n",
       "      <td>1994-06-25</td>\n",
       "      <td>WI</td>\n",
       "      <td>928-163-5178</td>\n",
       "      <td>Platinum</td>\n",
       "      <td>0</td>\n",
       "      <td>0</td>\n",
       "      <td>NaN</td>\n",
       "      <td>NaT</td>\n",
       "      <td>NaN</td>\n",
       "      <td>NaN</td>\n",
       "      <td>NaN</td>\n",
       "      <td>12467</td>\n",
       "      <td>NaN</td>\n",
       "      <td>NaN</td>\n",
       "    </tr>\n",
       "    <tr>\n",
       "      <th>188</th>\n",
       "      <td>154557</td>\n",
       "      <td>Female</td>\n",
       "      <td>1978-05-23</td>\n",
       "      <td>DE</td>\n",
       "      <td>962-879-1238</td>\n",
       "      <td>Platinum</td>\n",
       "      <td>69348631</td>\n",
       "      <td>154557</td>\n",
       "      <td>Driver error</td>\n",
       "      <td>2018-04-10</td>\n",
       "      <td>Auto</td>\n",
       "      <td>0</td>\n",
       "      <td>Injury only</td>\n",
       "      <td>12467</td>\n",
       "      <td>1.0</td>\n",
       "      <td>Yes</td>\n",
       "    </tr>\n",
       "  </tbody>\n",
       "</table>\n",
       "</div>"
      ],
      "text/plain": [
       "      CUST_ID  gender DateOfBirth State       Contact   Segment  claim_id  \\\n",
       "639  70659761    Male  1994-06-25    WI  928-163-5178  Platinum         0   \n",
       "188    154557  Female  1978-05-23    DE  962-879-1238  Platinum  69348631   \n",
       "\n",
       "     customer_id incident_cause claim_date claim_area police_report  \\\n",
       "639            0            NaN        NaT        NaN           NaN   \n",
       "188       154557   Driver error 2018-04-10       Auto             0   \n",
       "\n",
       "      claim_type  claim_amount  total_policy_claims fraudulent  \n",
       "639          NaN         12467                  NaN        NaN  \n",
       "188  Injury only         12467                  1.0        Yes  "
      ]
     },
     "execution_count": 10,
     "metadata": {},
     "output_type": "execute_result"
    }
   ],
   "source": [
    "#5)One customer can claim for insurance more than once and in each claim,multiple categories of claims can be involved. \n",
    "#However, customer IDshould remain unique. Retain the most recent observation and delete any duplicated records in\n",
    "#the data based on the customer ID column.\n",
    "q5 = final_claims_join.sort_values(by = ['customer_id','claim_date'])\n",
    "q5_1 = q5.drop_duplicates(subset = ['customer_id'],keep = 'last')\n",
    "q5_1.head(2)"
   ]
  },
  {
   "cell_type": "code",
   "execution_count": 11,
   "metadata": {},
   "outputs": [
    {
     "data": {
      "text/plain": [
       "CUST_ID                 0\n",
       "gender                  0\n",
       "DateOfBirth             0\n",
       "State                   0\n",
       "Contact                 0\n",
       "Segment                 0\n",
       "claim_id                0\n",
       "customer_id             0\n",
       "incident_cause          7\n",
       "claim_date              7\n",
       "claim_area              7\n",
       "police_report           7\n",
       "claim_type              7\n",
       "claim_amount            0\n",
       "total_policy_claims    17\n",
       "fraudulent              7\n",
       "dtype: int64"
      ]
     },
     "execution_count": 11,
     "metadata": {},
     "output_type": "execute_result"
    }
   ],
   "source": [
    "#6)Identifying missing values in the data\n",
    "final_claims_join.isnull().sum()"
   ]
  },
  {
   "cell_type": "code",
   "execution_count": 12,
   "metadata": {},
   "outputs": [],
   "source": [
    "#Imputing missing values with mode and mean\n",
    "final_claims_join['claim_type'] = final_claims_join['claim_type'].fillna('Material only')\n",
    "final_claims_join['police_report'] = final_claims_join['police_report'].fillna(0)\n",
    "final_claims_join['claim_area'] = final_claims_join['claim_area'].fillna('Auto')\n",
    "final_claims_join['claim_date'] = final_claims_join['claim_date'].fillna('2018-04-04')\n",
    "final_claims_join['claim_date'] = final_claims_join['claim_date'].astype('datetime64[ns]')\n",
    "final_claims_join['incident_cause'] = final_claims_join['incident_cause'].fillna('Other causes')\n",
    "final_claims_join['total_policy_claims'] = final_claims_join['total_policy_claims'].fillna(1)\n",
    "final_claims_join['fraudulent'] = final_claims_join['fraudulent'].fillna('No')"
   ]
  },
  {
   "cell_type": "code",
   "execution_count": 13,
   "metadata": {},
   "outputs": [],
   "source": [
    "#7)Age calculation based on DOB\n",
    "now = pd.Timestamp('now')\n",
    "final_claims_join['Age'] = (now - final_claims_join['DateOfBirth']).astype('<m8[Y]')"
   ]
  },
  {
   "cell_type": "code",
   "execution_count": 14,
   "metadata": {},
   "outputs": [],
   "source": [
    "#7)Deriving age categories\n",
    "p = final_claims_join.Age\n",
    "final_claims_join['Age_Group'] = np.where((p < 18),'Children',\n",
    "                                          np.where((p >= 18) & (p < 30),'Youth',\n",
    "                                                   np.where((p >= 30) & (p <= 60),'Adult','Senior')))"
   ]
  },
  {
   "cell_type": "code",
   "execution_count": 15,
   "metadata": {},
   "outputs": [
    {
     "data": {
      "text/html": [
       "<div>\n",
       "<style scoped>\n",
       "    .dataframe tbody tr th:only-of-type {\n",
       "        vertical-align: middle;\n",
       "    }\n",
       "\n",
       "    .dataframe tbody tr th {\n",
       "        vertical-align: top;\n",
       "    }\n",
       "\n",
       "    .dataframe thead th {\n",
       "        text-align: right;\n",
       "    }\n",
       "</style>\n",
       "<table border=\"1\" class=\"dataframe\">\n",
       "  <thead>\n",
       "    <tr style=\"text-align: right;\">\n",
       "      <th></th>\n",
       "      <th>Average_claim_amount</th>\n",
       "    </tr>\n",
       "    <tr>\n",
       "      <th>Segment</th>\n",
       "      <th></th>\n",
       "    </tr>\n",
       "  </thead>\n",
       "  <tbody>\n",
       "    <tr>\n",
       "      <th>Gold</th>\n",
       "      <td>12829.0</td>\n",
       "    </tr>\n",
       "    <tr>\n",
       "      <th>Platinum</th>\n",
       "      <td>12343.0</td>\n",
       "    </tr>\n",
       "    <tr>\n",
       "      <th>Silver</th>\n",
       "      <td>12211.0</td>\n",
       "    </tr>\n",
       "  </tbody>\n",
       "</table>\n",
       "</div>"
      ],
      "text/plain": [
       "          Average_claim_amount\n",
       "Segment                       \n",
       "Gold                   12829.0\n",
       "Platinum               12343.0\n",
       "Silver                 12211.0"
      ]
     },
     "execution_count": 15,
     "metadata": {},
     "output_type": "execute_result"
    }
   ],
   "source": [
    "#8)Average amount claimed by customers from various segments\n",
    "q8 = final_claims_join.groupby(by = ['Segment'])[['claim_amount']].mean().round().add_prefix('Average_')\n",
    "q8"
   ]
  },
  {
   "cell_type": "code",
   "execution_count": 16,
   "metadata": {},
   "outputs": [
    {
     "data": {
      "text/plain": [
       "Sum_of claim_amount    13346802\n",
       "dtype: int64"
      ]
     },
     "execution_count": 16,
     "metadata": {},
     "output_type": "execute_result"
    }
   ],
   "source": [
    "#9)What is the total claim amount based on incident cause for all the claims that have been done at least 20 days \n",
    "#prior to 1st of October, 2018.\n",
    "date = 20\n",
    "final_claims_join['calc_date'] = final_claims_join['claim_date'] - pd.to_timedelta(date,unit = 'd')\n",
    "q9_amt = final_claims_join[(final_claims_join['calc_date'] < '2018-10-01')][['claim_amount']].sum().add_prefix('Sum_of ')\n",
    "q9_amt"
   ]
  },
  {
   "cell_type": "code",
   "execution_count": 17,
   "metadata": {},
   "outputs": [
    {
     "data": {
      "text/html": [
       "<div>\n",
       "<style scoped>\n",
       "    .dataframe tbody tr th:only-of-type {\n",
       "        vertical-align: middle;\n",
       "    }\n",
       "\n",
       "    .dataframe tbody tr th {\n",
       "        vertical-align: top;\n",
       "    }\n",
       "\n",
       "    .dataframe thead th {\n",
       "        text-align: right;\n",
       "    }\n",
       "</style>\n",
       "<table border=\"1\" class=\"dataframe\">\n",
       "  <thead>\n",
       "    <tr style=\"text-align: right;\">\n",
       "      <th></th>\n",
       "      <th>CUST_ID</th>\n",
       "      <th>State</th>\n",
       "      <th>incident_cause</th>\n",
       "      <th>Age_Group</th>\n",
       "    </tr>\n",
       "  </thead>\n",
       "  <tbody>\n",
       "    <tr>\n",
       "      <th>103</th>\n",
       "      <td>92752865</td>\n",
       "      <td>AK</td>\n",
       "      <td>Driver error</td>\n",
       "      <td>Adult</td>\n",
       "    </tr>\n",
       "    <tr>\n",
       "      <th>118</th>\n",
       "      <td>61810954</td>\n",
       "      <td>TX</td>\n",
       "      <td>Other driver error</td>\n",
       "      <td>Adult</td>\n",
       "    </tr>\n",
       "  </tbody>\n",
       "</table>\n",
       "</div>"
      ],
      "text/plain": [
       "      CUST_ID State      incident_cause Age_Group\n",
       "103  92752865    AK        Driver error     Adult\n",
       "118  61810954    TX  Other driver error     Adult"
      ]
     },
     "execution_count": 17,
     "metadata": {},
     "output_type": "execute_result"
    }
   ],
   "source": [
    "#q10)How many adults claimed insurance from 'TX', 'DE' and 'AK' state for driver related issue\n",
    "ts = final_claims_join.State\n",
    "ts1 = final_claims_join.incident_cause\n",
    "ts2 = final_claims_join.Age_Group\n",
    "q10 = final_claims_join.loc[(ts == \"TX\")|(ts == \"DE\")|(ts == \"AK\")&(ts1 == 'Driver error')&(ts2 == 'Adult'),\n",
    "                             ['CUST_ID','State','incident_cause','Age_Group']]\n",
    "q10_a = q10.loc[(ts1 == 'Driver error')|(ts1 == 'Other driver error')&(ts2 == 'Adult'),\n",
    "                             ['CUST_ID','State','incident_cause','Age_Group']]\n",
    "q10_b = q10_a.loc[(ts2 == 'Adult'),['CUST_ID','State','incident_cause','Age_Group']]\n",
    "q10_b.head(2)"
   ]
  },
  {
   "cell_type": "code",
   "execution_count": 18,
   "metadata": {},
   "outputs": [
    {
     "data": {
      "text/html": [
       "<div>\n",
       "<style scoped>\n",
       "    .dataframe tbody tr th:only-of-type {\n",
       "        vertical-align: middle;\n",
       "    }\n",
       "\n",
       "    .dataframe tbody tr th {\n",
       "        vertical-align: top;\n",
       "    }\n",
       "\n",
       "    .dataframe thead th {\n",
       "        text-align: right;\n",
       "    }\n",
       "</style>\n",
       "<table border=\"1\" class=\"dataframe\">\n",
       "  <thead>\n",
       "    <tr style=\"text-align: right;\">\n",
       "      <th></th>\n",
       "      <th></th>\n",
       "      <th>Insurance claims from Adult Age_Group</th>\n",
       "    </tr>\n",
       "    <tr>\n",
       "      <th>State</th>\n",
       "      <th>incident_cause</th>\n",
       "      <th></th>\n",
       "    </tr>\n",
       "  </thead>\n",
       "  <tbody>\n",
       "    <tr>\n",
       "      <th>AK</th>\n",
       "      <th>Driver error</th>\n",
       "      <td>6</td>\n",
       "    </tr>\n",
       "    <tr>\n",
       "      <th rowspan=\"2\" valign=\"top\">DE</th>\n",
       "      <th>Driver error</th>\n",
       "      <td>7</td>\n",
       "    </tr>\n",
       "    <tr>\n",
       "      <th>Other driver error</th>\n",
       "      <td>5</td>\n",
       "    </tr>\n",
       "    <tr>\n",
       "      <th rowspan=\"2\" valign=\"top\">TX</th>\n",
       "      <th>Driver error</th>\n",
       "      <td>5</td>\n",
       "    </tr>\n",
       "    <tr>\n",
       "      <th>Other driver error</th>\n",
       "      <td>4</td>\n",
       "    </tr>\n",
       "  </tbody>\n",
       "</table>\n",
       "</div>"
      ],
      "text/plain": [
       "                          Insurance claims from Adult Age_Group\n",
       "State incident_cause                                           \n",
       "AK    Driver error                                            6\n",
       "DE    Driver error                                            7\n",
       "      Other driver error                                      5\n",
       "TX    Driver error                                            5\n",
       "      Other driver error                                      4"
      ]
     },
     "execution_count": 18,
     "metadata": {},
     "output_type": "execute_result"
    }
   ],
   "source": [
    "q10_b.groupby(by = ['State','incident_cause'])[['Age_Group']].count().add_prefix('Insurance claims from Adult ')"
   ]
  },
  {
   "cell_type": "code",
   "execution_count": 19,
   "metadata": {
    "scrolled": true
   },
   "outputs": [],
   "source": [
    "#q11)\n",
    "q11 = final_claims_join.groupby(by = ['gender','Segment'])[['claim_amount']].sum().add_prefix('Sum of ').reset_index()"
   ]
  },
  {
   "cell_type": "code",
   "execution_count": 20,
   "metadata": {},
   "outputs": [
    {
     "data": {
      "text/html": [
       "<div>\n",
       "<style scoped>\n",
       "    .dataframe tbody tr th:only-of-type {\n",
       "        vertical-align: middle;\n",
       "    }\n",
       "\n",
       "    .dataframe tbody tr th {\n",
       "        vertical-align: top;\n",
       "    }\n",
       "\n",
       "    .dataframe thead th {\n",
       "        text-align: right;\n",
       "    }\n",
       "</style>\n",
       "<table border=\"1\" class=\"dataframe\">\n",
       "  <thead>\n",
       "    <tr style=\"text-align: right;\">\n",
       "      <th>gender</th>\n",
       "      <th>Female</th>\n",
       "      <th>Male</th>\n",
       "    </tr>\n",
       "    <tr>\n",
       "      <th>Segment</th>\n",
       "      <th></th>\n",
       "      <th></th>\n",
       "    </tr>\n",
       "  </thead>\n",
       "  <tbody>\n",
       "    <tr>\n",
       "      <th>Gold</th>\n",
       "      <td>2122189</td>\n",
       "      <td>2701357</td>\n",
       "    </tr>\n",
       "    <tr>\n",
       "      <th>Platinum</th>\n",
       "      <td>2381939</td>\n",
       "      <td>2123218</td>\n",
       "    </tr>\n",
       "    <tr>\n",
       "      <th>Silver</th>\n",
       "      <td>1939297</td>\n",
       "      <td>2346607</td>\n",
       "    </tr>\n",
       "  </tbody>\n",
       "</table>\n",
       "</div>"
      ],
      "text/plain": [
       "gender     Female     Male\n",
       "Segment                   \n",
       "Gold      2122189  2701357\n",
       "Platinum  2381939  2123218\n",
       "Silver    1939297  2346607"
      ]
     },
     "execution_count": 20,
     "metadata": {},
     "output_type": "execute_result"
    }
   ],
   "source": [
    "q11_b = q11.pivot(index='Segment',columns='gender',values='Sum of claim_amount')\n",
    "q11_b"
   ]
  },
  {
   "cell_type": "code",
   "execution_count": 21,
   "metadata": {},
   "outputs": [
    {
     "data": {
      "image/png": "[encoded data removed]",
      "text/plain": [
       "<Figure size 1080x360 with 2 Axes>"
      ]
     },
     "metadata": {},
     "output_type": "display_data"
    }
   ],
   "source": [
    "#q11 - Graphical representation\n",
    "q11_b.plot(kind=\"pie\",subplots=True,legend=False,figsize=(15,5),autopct=\"%.0f%%\")\n",
    "plt.show()"
   ]
  },
  {
   "cell_type": "code",
   "execution_count": 22,
   "metadata": {},
   "outputs": [
    {
     "data": {
      "image/png": "[encoded data removed]",
      "text/plain": [
       "<Figure size 1080x360 with 3 Axes>"
      ]
     },
     "metadata": {},
     "output_type": "display_data"
    }
   ],
   "source": [
    "#q11 - Graphical representation\n",
    "q11_b.T.plot(kind=\"pie\",subplots=True,legend=False,figsize=(15,5),autopct=\"%.0f%%\")\n",
    "plt.show()"
   ]
  },
  {
   "cell_type": "code",
   "execution_count": 23,
   "metadata": {},
   "outputs": [],
   "source": [
    "#q12)claims made by male and female for driver related incidents\n",
    "ts1 = final_claims_join.incident_cause\n",
    "q12 = final_claims_join.loc[(ts1 == 'Driver error')|(ts1 == 'Other driver error'),\n",
    "                             ['gender','incident_cause','claim_amount']]\n",
    "q12_a = q12.groupby(by = ['gender','incident_cause'])[['claim_amount']].sum().add_prefix('Sum of ').reset_index()\n",
    "q12_b = q12_a.pivot(index=\"gender\",columns=\"incident_cause\",values=\"Sum of claim_amount\")"
   ]
  },
  {
   "cell_type": "code",
   "execution_count": 24,
   "metadata": {},
   "outputs": [
    {
     "data": {
      "image/png": "[encoded data removed]",
      "text/plain": [
       "<Figure size 864x432 with 1 Axes>"
      ]
     },
     "metadata": {
      "needs_background": "light"
     },
     "output_type": "display_data"
    }
   ],
   "source": [
    "#q12 - Graphical representation\n",
    "q12_b.T.plot(kind=\"bar\",figsize = (12,6))\n",
    "plt.xticks(rotation = 45)\n",
    "plt.show()"
   ]
  },
  {
   "cell_type": "code",
   "execution_count": 25,
   "metadata": {},
   "outputs": [
    {
     "data": {
      "image/png": "[encoded data removed]",
      "text/plain": [
       "<Figure size 864x432 with 1 Axes>"
      ]
     },
     "metadata": {
      "needs_background": "light"
     },
     "output_type": "display_data"
    }
   ],
   "source": [
    "#q12 - Graphical representation\n",
    "q12_b.plot(kind=\"bar\",color = ['skyblue','orange'],figsize = (12,6))\n",
    "plt.xticks(rotation = 45)\n",
    "plt.show()"
   ]
  },
  {
   "cell_type": "code",
   "execution_count": 26,
   "metadata": {},
   "outputs": [
    {
     "data": {
      "text/html": [
       "<div>\n",
       "<style scoped>\n",
       "    .dataframe tbody tr th:only-of-type {\n",
       "        vertical-align: middle;\n",
       "    }\n",
       "\n",
       "    .dataframe tbody tr th {\n",
       "        vertical-align: top;\n",
       "    }\n",
       "\n",
       "    .dataframe thead th {\n",
       "        text-align: right;\n",
       "    }\n",
       "</style>\n",
       "<table border=\"1\" class=\"dataframe\">\n",
       "  <thead>\n",
       "    <tr style=\"text-align: right;\">\n",
       "      <th></th>\n",
       "      <th>claim_amount</th>\n",
       "    </tr>\n",
       "    <tr>\n",
       "      <th>Age_Group</th>\n",
       "      <th></th>\n",
       "    </tr>\n",
       "  </thead>\n",
       "  <tbody>\n",
       "    <tr>\n",
       "      <th>Adult</th>\n",
       "      <td>2615176</td>\n",
       "    </tr>\n",
       "    <tr>\n",
       "      <th>Youth</th>\n",
       "      <td>602006</td>\n",
       "    </tr>\n",
       "  </tbody>\n",
       "</table>\n",
       "</div>"
      ],
      "text/plain": [
       "           claim_amount\n",
       "Age_Group              \n",
       "Adult           2615176\n",
       "Youth            602006"
      ]
     },
     "execution_count": 26,
     "metadata": {},
     "output_type": "execute_result"
    }
   ],
   "source": [
    "#13)which age group has the most fraudulent policy claims\n",
    "ts1 = final_claims_join.fraudulent\n",
    "q13 = final_claims_join.loc[(ts1 == 'Yes'),['fraudulent','Age_Group','claim_amount']]\n",
    "q13_a = q13.groupby(by = 'Age_Group')[['claim_amount']].sum()\n",
    "q13_a"
   ]
  },
  {
   "cell_type": "code",
   "execution_count": 27,
   "metadata": {},
   "outputs": [
    {
     "data": {
      "image/png": "[encoded data removed]",
      "text/plain": [
       "<Figure size 1008x576 with 1 Axes>"
      ]
     },
     "metadata": {
      "needs_background": "light"
     },
     "output_type": "display_data"
    }
   ],
   "source": [
    "q13_a.plot(kind = 'bar',figsize = (14,8),color = 'orange')\n",
    "plt.xticks(rotation = 45)\n",
    "plt.xlabel = ('Sum of claim amount')\n",
    "plt.ylabel = ('Age_Group')\n",
    "plt.show()"
   ]
  },
  {
   "cell_type": "code",
   "execution_count": 28,
   "metadata": {},
   "outputs": [],
   "source": [
    "#Identifying spend monthly and yearly wise \n",
    "final_claims_join['Month'] = final_claims_join['claim_date'].dt.month\n",
    "final_claims_join['Year'] = final_claims_join['claim_date'].dt.year\n",
    "ts1 = final_claims_join.Year\n",
    "q14 = final_claims_join.loc[(ts1 == 2017),['Month','Year','claim_amount']]\n",
    "q14_1 = q14.groupby(by = ['Month','Year'])[['claim_amount']].sum()\n",
    "q14_a = final_claims_join.loc[(ts1 == 2018),['Month','Year','claim_amount']]\n",
    "q14_2 = q14_a.groupby(by = ['Month','Year'])[['claim_amount']].sum()\n",
    "q14_ans = q14_1.append(q14_2)"
   ]
  },
  {
   "cell_type": "code",
   "execution_count": 29,
   "metadata": {},
   "outputs": [
    {
     "data": {
      "image/png": "[encoded data removed]",
      "text/plain": [
       "<Figure size 1008x576 with 1 Axes>"
      ]
     },
     "metadata": {
      "needs_background": "light"
     },
     "output_type": "display_data"
    }
   ],
   "source": [
    "q14_ans.plot(kind = 'bar',figsize = (14,8),color = 'skyblue')\n",
    "plt.xticks(rotation = 45)\n",
    "plt.ylabel = ('Sum of claim amount')\n",
    "plt.xlabel = ('Month & Year')\n",
    "plt.show()"
   ]
  },
  {
   "cell_type": "code",
   "execution_count": 30,
   "metadata": {},
   "outputs": [],
   "source": [
    "#q15)what is the average claim for gender and age categories\n",
    "ts1 = final_claims_join.fraudulent\n",
    "q15 = final_claims_join.loc[(ts1 == 'Yes'),['gender','Age_Group','fraudulent','claim_amount']]\n",
    "q15_2 = final_claims_join.loc[(ts1 == 'No'),['gender','Age_Group','fraudulent','claim_amount']]\n",
    "q15_a = q15.groupby(by = ['gender','Age_Group','fraudulent'])[['claim_amount']].mean().add_prefix('Average ').reset_index().round()\n",
    "q15_2a = q15_2.groupby(by = ['gender','Age_Group','fraudulent'])[['claim_amount']].mean().add_prefix('Average ').reset_index().round()"
   ]
  },
  {
   "cell_type": "code",
   "execution_count": 31,
   "metadata": {},
   "outputs": [
    {
     "data": {
      "image/png": "[encoded data removed]",
      "text/plain": [
       "<Figure size 432x288 with 1 Axes>"
      ]
     },
     "metadata": {
      "needs_background": "light"
     },
     "output_type": "display_data"
    }
   ],
   "source": [
    "#Bar plot for frudulent claims\n",
    "sns.barplot(x = \"gender\",\n",
    "            y = \"Average claim_amount\",\n",
    "            data = q15_a,\n",
    "            hue = \"Age_Group\",\n",
    "            palette=['deepskyblue','coral'])\n",
    "plt.title('Fraudulent Claims')\n",
    "plt.xticks(rotation = 45)\n",
    "plt.show()"
   ]
  },
  {
   "cell_type": "code",
   "execution_count": 32,
   "metadata": {},
   "outputs": [
    {
     "data": {
      "image/png": "[encoded data removed]",
      "text/plain": [
       "<Figure size 432x288 with 1 Axes>"
      ]
     },
     "metadata": {
      "needs_background": "light"
     },
     "output_type": "display_data"
    }
   ],
   "source": [
    "#Bar plot for Non - fraudulent claims\n",
    "sns.barplot(x = \"gender\",\n",
    "            y = \"Average claim_amount\",\n",
    "            data = q15_2a,\n",
    "            hue = \"Age_Group\",\n",
    "            palette=['lightgreen','darkorchid'])\n",
    "plt.title('Non - Fraudulent Claims')\n",
    "plt.xticks(rotation = 45)\n",
    "plt.show()"
   ]
  },
  {
   "cell_type": "code",
   "execution_count": 33,
   "metadata": {},
   "outputs": [],
   "source": [
    "#q16)Is there any similarity in the amount claimed by males and females?\n",
    "Male_claim  = final_claims_join.claim_amount.loc[(final_claims_join.gender == 'Male')]\n",
    "Female_claim  = final_claims_join.claim_amount.loc[(final_claims_join.gender == 'Female')]"
   ]
  },
  {
   "cell_type": "code",
   "execution_count": 34,
   "metadata": {},
   "outputs": [
    {
     "name": "stdout",
     "output_type": "stream",
     "text": [
      "the average claim by male customers is 12851.58064516129\n",
      "the average claim by female customers is 12066.338951310861\n"
     ]
    }
   ],
   "source": [
    "print ('the average claim by male customers is {}'.format(Male_claim.mean()))\n",
    "print ('the average claim by female customers is {}'.format(Female_claim.mean()))"
   ]
  },
  {
   "cell_type": "markdown",
   "metadata": {},
   "source": [
    " ## H0 : Male claim == Female claim                                                                                                          \n",
    " ## Ha : Male claim != Female claim"
   ]
  },
  {
   "cell_type": "markdown",
   "metadata": {},
   "source": [
    "### Two sample T test (Independent)"
   ]
  },
  {
   "cell_type": "code",
   "execution_count": 35,
   "metadata": {},
   "outputs": [
    {
     "data": {
      "text/plain": [
       "0.9745089890596915"
      ]
     },
     "execution_count": 35,
     "metadata": {},
     "output_type": "execute_result"
    }
   ],
   "source": [
    "#Testing unequal variance case\n",
    "uneq_var = stats.ttest_ind(a = Male_claim,b  = Female_claim,equal_var = False)\n",
    "uneq_var.statistic"
   ]
  },
  {
   "cell_type": "code",
   "execution_count": 36,
   "metadata": {},
   "outputs": [
    {
     "data": {
      "text/plain": [
       "0.9737403809430631"
      ]
     },
     "execution_count": 36,
     "metadata": {},
     "output_type": "execute_result"
    }
   ],
   "source": [
    "#Testing equal variance case\n",
    "equal_var = stats.ttest_ind(a = Male_claim,b  = Female_claim,equal_var = True)\n",
    "equal_var.statistic"
   ]
  },
  {
   "cell_type": "markdown",
   "metadata": {},
   "source": [
    "As the value of t is same we need to go with equal variance case"
   ]
  },
  {
   "cell_type": "code",
   "execution_count": 37,
   "metadata": {},
   "outputs": [
    {
     "data": {
      "text/plain": [
       "0.330401501412234"
      ]
     },
     "execution_count": 37,
     "metadata": {},
     "output_type": "execute_result"
    }
   ],
   "source": [
    "equal_var.pvalue"
   ]
  },
  {
   "cell_type": "markdown",
   "metadata": {},
   "source": [
    "As the value of p is greater than o.o5,we accept null hypothesis which is male claim == female claim. To conclude,The amount claimed by males is equal to amount claimed by female."
   ]
  },
  {
   "cell_type": "code",
   "execution_count": 38,
   "metadata": {},
   "outputs": [],
   "source": [
    "#17)Is there any relationship between age category and segment?"
   ]
  },
  {
   "cell_type": "markdown",
   "metadata": {},
   "source": [
    "### H0 : Observed == Expected : There is no influence of age on segment        \n",
    "### Ha : Observed <> Expected : There is influence of age on segment"
   ]
  },
  {
   "cell_type": "markdown",
   "metadata": {},
   "source": [
    "### Chi square test"
   ]
  },
  {
   "cell_type": "code",
   "execution_count": 39,
   "metadata": {},
   "outputs": [
    {
     "data": {
      "text/html": [
       "<div>\n",
       "<style scoped>\n",
       "    .dataframe tbody tr th:only-of-type {\n",
       "        vertical-align: middle;\n",
       "    }\n",
       "\n",
       "    .dataframe tbody tr th {\n",
       "        vertical-align: top;\n",
       "    }\n",
       "\n",
       "    .dataframe thead th {\n",
       "        text-align: right;\n",
       "    }\n",
       "</style>\n",
       "<table border=\"1\" class=\"dataframe\">\n",
       "  <thead>\n",
       "    <tr style=\"text-align: right;\">\n",
       "      <th>Segment</th>\n",
       "      <th>Gold</th>\n",
       "      <th>Platinum</th>\n",
       "      <th>Silver</th>\n",
       "      <th>All</th>\n",
       "    </tr>\n",
       "    <tr>\n",
       "      <th>Age_Group</th>\n",
       "      <th></th>\n",
       "      <th></th>\n",
       "      <th></th>\n",
       "      <th></th>\n",
       "    </tr>\n",
       "  </thead>\n",
       "  <tbody>\n",
       "    <tr>\n",
       "      <th>Adult</th>\n",
       "      <td>289</td>\n",
       "      <td>263</td>\n",
       "      <td>262</td>\n",
       "      <td>814</td>\n",
       "    </tr>\n",
       "    <tr>\n",
       "      <th>Youth</th>\n",
       "      <td>87</td>\n",
       "      <td>102</td>\n",
       "      <td>89</td>\n",
       "      <td>278</td>\n",
       "    </tr>\n",
       "    <tr>\n",
       "      <th>All</th>\n",
       "      <td>376</td>\n",
       "      <td>365</td>\n",
       "      <td>351</td>\n",
       "      <td>1092</td>\n",
       "    </tr>\n",
       "  </tbody>\n",
       "</table>\n",
       "</div>"
      ],
      "text/plain": [
       "Segment    Gold  Platinum  Silver   All\n",
       "Age_Group                              \n",
       "Adult       289       263     262   814\n",
       "Youth        87       102      89   278\n",
       "All         376       365     351  1092"
      ]
     },
     "execution_count": 39,
     "metadata": {},
     "output_type": "execute_result"
    }
   ],
   "source": [
    "q17 = pd.crosstab(final_claims_join.Age_Group, final_claims_join.Segment, margins = True)\n",
    "q17"
   ]
  },
  {
   "cell_type": "code",
   "execution_count": 40,
   "metadata": {},
   "outputs": [
    {
     "data": {
      "text/plain": [
       "(2.257944443182509,\n",
       " 0.8945133044580127,\n",
       " 6,\n",
       " array([[ 280.27838828,  272.07875458,  261.64285714,  814.        ],\n",
       "        [  95.72161172,   92.92124542,   89.35714286,  278.        ],\n",
       "        [ 376.        ,  365.        ,  351.        , 1092.        ]]))"
      ]
     },
     "execution_count": 40,
     "metadata": {},
     "output_type": "execute_result"
    }
   ],
   "source": [
    "test_score = stats.chi2_contingency(observed = q17)\n",
    "test_score"
   ]
  },
  {
   "cell_type": "markdown",
   "metadata": {},
   "source": [
    "The value of p is evidence to accept null hypothesis which is observed == expected. To conclude the hypothesis , we can say that age_category has good effect on the segment."
   ]
  },
  {
   "cell_type": "code",
   "execution_count": 41,
   "metadata": {},
   "outputs": [],
   "source": [
    "#q18)The current year has shown a significant rise in claim amounts as compared to 2016-17 fiscal average which was $10,000."
   ]
  },
  {
   "cell_type": "markdown",
   "metadata": {},
   "source": [
    "### Ho : Current year claim amount == 10,000 dollars                                                                                                                        \n",
    "### Ha : Current year claim amount > 10,000 dollars"
   ]
  },
  {
   "cell_type": "markdown",
   "metadata": {},
   "source": [
    "### One sample T test"
   ]
  },
  {
   "cell_type": "code",
   "execution_count": 42,
   "metadata": {},
   "outputs": [],
   "source": [
    "ttest_1 = stats.ttest_1samp(a = final_claims_join.claim_amount,popmean = 10000)\n",
    "t_score = round(ttest_1.statistic,2)\n",
    "p_value = ttest_1.pvalue"
   ]
  },
  {
   "cell_type": "code",
   "execution_count": 43,
   "metadata": {},
   "outputs": [
    {
     "data": {
      "text/plain": [
       "1.2910641156507557e-09"
      ]
     },
     "execution_count": 43,
     "metadata": {},
     "output_type": "execute_result"
    }
   ],
   "source": [
    "p_value"
   ]
  },
  {
   "cell_type": "markdown",
   "metadata": {},
   "source": [
    "Since the p value is low, we reject null hypothesis and accept alternate hypothesis and we conclude that current year claim amount is either greater than or different than 10000 which was last years claim amount. Which means there is an improvement in the claim amount"
   ]
  },
  {
   "cell_type": "code",
   "execution_count": 44,
   "metadata": {},
   "outputs": [],
   "source": [
    "#q19)Is there any difference between age groups and insurance claims?"
   ]
  },
  {
   "cell_type": "markdown",
   "metadata": {},
   "source": [
    "### H0 : children_claims == youth_claims == adult_claims  : No Difference between claims                                                \n",
    "### Ha : children_claims == youth_claims == adult_claims : There is a  Difference betwen the claims"
   ]
  },
  {
   "cell_type": "markdown",
   "metadata": {},
   "source": [
    "### Anova"
   ]
  },
  {
   "cell_type": "code",
   "execution_count": 62,
   "metadata": {},
   "outputs": [],
   "source": [
    "s1 = final_claims_join[final_claims_join.Age_Group == 'Children']\n",
    "s1_1 = s1.claim_amount\n",
    "s2 = final_claims_join[final_claims_join.Age_Group == 'Youth']\n",
    "s2_1 = s2.claim_amount\n",
    "s3 = final_claims_join[final_claims_join.Age_Group == 'Adult']\n",
    "s3_1 = s3.claim_amount\n",
    "s4 = final_claims_join[final_claims_join.Age_Group == 'Senior']\n",
    "s4_1 = s4.claim_amount"
   ]
  },
  {
   "cell_type": "code",
   "execution_count": 64,
   "metadata": {},
   "outputs": [
    {
     "name": "stderr",
     "output_type": "stream",
     "text": [
      "C:\\ProgramData\\Anaconda3\\lib\\site-packages\\scipy\\stats\\stats.py:2951: RuntimeWarning: invalid value encountered in double_scalars\n",
      "  ssbn += _square_of_sums(a - offset) / len(a)\n"
     ]
    }
   ],
   "source": [
    "q19 = stats.f_oneway(s1_1,s2_1,s3_1,s4_1)"
   ]
  },
  {
   "cell_type": "code",
   "execution_count": 66,
   "metadata": {},
   "outputs": [
    {
     "data": {
      "text/plain": [
       "nan"
      ]
     },
     "execution_count": 66,
     "metadata": {},
     "output_type": "execute_result"
    }
   ],
   "source": [
    "q19.pvalue"
   ]
  },
  {
   "cell_type": "markdown",
   "metadata": {},
   "source": [
    "### Dont know why it is displaying Nan for p.value. i checked for missing values and disturbances in the data but the data is clean. But even after that it is diplaying Nan. Maybe its an issue with the library."
   ]
  },
  {
   "cell_type": "markdown",
   "metadata": {},
   "source": [
    "For example : \n",
    "The value of p supports the evidence of accepting Null hypothesis i.e. observed == expected. To conclude the hypothesis, there is no effect of agegroup on the total no of insurance claims and vice versa."
   ]
  },
  {
   "cell_type": "code",
   "execution_count": 48,
   "metadata": {},
   "outputs": [],
   "source": [
    "#q20)Is there any relationship between total number of policy claims and the claimed amount?"
   ]
  },
  {
   "cell_type": "markdown",
   "metadata": {},
   "source": [
    "### Correlation"
   ]
  },
  {
   "cell_type": "code",
   "execution_count": 67,
   "metadata": {},
   "outputs": [],
   "source": [
    "policy_claims = final_claims_join.total_policy_claims\n",
    "total_claim_amount = final_claims_join.claim_amount"
   ]
  },
  {
   "cell_type": "code",
   "execution_count": 69,
   "metadata": {},
   "outputs": [
    {
     "name": "stdout",
     "output_type": "stream",
     "text": [
      "[[ 1.         -0.01793812]\n",
      " [-0.01793812  1.        ]]\n"
     ]
    }
   ],
   "source": [
    "print(np.corrcoef(policy_claims,total_claim_amount))"
   ]
  },
  {
   "cell_type": "code",
   "execution_count": 70,
   "metadata": {},
   "outputs": [
    {
     "data": {
      "text/plain": [
       "-0.017938120439347418"
      ]
     },
     "execution_count": 70,
     "metadata": {},
     "output_type": "execute_result"
    }
   ],
   "source": [
    "policy_claims.corr(other = total_claim_amount)"
   ]
  },
  {
   "cell_type": "code",
   "execution_count": 74,
   "metadata": {},
   "outputs": [
    {
     "data": {
      "text/plain": [
       "<seaborn.axisgrid.FacetGrid at 0x9382851b70>"
      ]
     },
     "execution_count": 74,
     "metadata": {},
     "output_type": "execute_result"
    },
    {
     "data": {
      "image/png": "[encoded data removed]",
      "text/plain": [
       "<Figure size 360x360 with 1 Axes>"
      ]
     },
     "metadata": {
      "needs_background": "light"
     },
     "output_type": "display_data"
    }
   ],
   "source": [
    "sns.lmplot(x = 'total_policy_claims',y = 'claim_amount',data = final_claims_join)"
   ]
  },
  {
   "cell_type": "markdown",
   "metadata": {},
   "source": [
    " There is no correlation between total policy claims and clim amout as the correlation coefficient value is equal to zero."
   ]
  }
 ],
 "metadata": {
  "kernelspec": {
   "display_name": "Python 3",
   "language": "python",
   "name": "python3"
  },
  "language_info": {
   "codemirror_mode": {
    "name": "ipython",
    "version": 3
   },
   "file_extension": ".py",
   "mimetype": "text/x-python",
   "name": "python",
   "nbconvert_exporter": "python",
   "pygments_lexer": "ipython3",
   "version": "3.8.3"
  }
 },
 "nbformat": 4,
 "nbformat_minor": 2
}
